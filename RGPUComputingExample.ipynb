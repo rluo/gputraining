{
 "cells": [
  {
   "cell_type": "markdown",
   "metadata": {},
   "source": [
    "# Example\n",
    "\n",
    "Taken from nvidia's website https://devblogs.nvidia.com/accelerate-r-applications-cuda/\n",
    "\n",
    "You need to know how to compile C code on linux. We modified various things to make the example work on our server."
   ]
  },
  {
   "cell_type": "markdown",
   "metadata": {},
   "source": [
    "# Compile code"
   ]
  },
  {
   "cell_type": "code",
   "execution_count": 9,
   "metadata": {
    "ExecuteTime": {
     "end_time": "2019-04-23T22:07:57.270125Z",
     "start_time": "2019-04-23T22:07:57.235Z"
    }
   },
   "outputs": [
    {
     "data": {
      "text/html": [
       "<ol class=list-inline>\n",
       "\t<li>'#include &lt;R.h&gt;'</li>\n",
       "\t<li>'#include &lt;cufft.h&gt;'</li>\n",
       "\t<li>'/* This function is written for R to compute 1D FFT.'</li>\n",
       "\t<li><span style=white-space:pre-wrap>'   n - [IN] the number of complex we want to compute'</span></li>\n",
       "\t<li><span style=white-space:pre-wrap>'   inverse - [IN] set to 1 if use inverse mode'</span></li>\n",
       "\t<li><span style=white-space:pre-wrap>'   h_idata_re - [IN] input data from host (R, real part)'</span></li>\n",
       "\t<li><span style=white-space:pre-wrap>'   h_idata_im - [IN] input data from host (R, imaginary part)'</span></li>\n",
       "\t<li><span style=white-space:pre-wrap>'   h_odata_re - [OUT] results (real) allocated by caller'</span></li>\n",
       "\t<li><span style=white-space:pre-wrap>'   h_odata_im - [OUT] results (imaginary) allocated by caller'</span></li>\n",
       "\t<li>'*/'</li>\n",
       "\t<li>'extern \"C\"'</li>\n",
       "\t<li>'void cufft(int *n, int *inverse, double *h_idata_re,'</li>\n",
       "\t<li><span style=white-space:pre-wrap>'           double *h_idata_im, double *h_odata_re, double *h_odata_im)'</span></li>\n",
       "\t<li>'{'</li>\n",
       "\t<li><span style=white-space:pre-wrap>'  cufftHandle plan;'</span></li>\n",
       "\t<li><span style=white-space:pre-wrap>'  cufftDoubleComplex *d_data, *h_data;'</span></li>\n",
       "\t<li><span style=white-space:pre-wrap>'  cudaMalloc((void**)&amp;d_data, sizeof(cufftDoubleComplex)*(*n));'</span></li>\n",
       "\t<li><span style=white-space:pre-wrap>'  h_data = (cufftDoubleComplex *) malloc(sizeof(cufftDoubleComplex) * (*n));'</span></li>\n",
       "\t<li>''</li>\n",
       "\t<li><span style=white-space:pre-wrap>'  // Convert data to cufftDoubleComplex type'</span></li>\n",
       "\t<li><span style=white-space:pre-wrap>'  for(int i=0; i&lt; *n; i++) {'</span></li>\n",
       "\t<li><span style=white-space:pre-wrap>'    h_data[i].x = h_idata_re[i];'</span></li>\n",
       "\t<li><span style=white-space:pre-wrap>'    h_data[i].y = h_idata_im[i];'</span></li>\n",
       "\t<li><span style=white-space:pre-wrap>'  }'</span></li>\n",
       "\t<li>' '</li>\n",
       "\t<li><span style=white-space:pre-wrap>'  cudaMemcpy(d_data, h_data, sizeof(cufftDoubleComplex) * (*n), '</span></li>\n",
       "\t<li><span style=white-space:pre-wrap>'             cudaMemcpyHostToDevice);'</span></li>\n",
       "\t<li><span style=white-space:pre-wrap>'  // Use the CUFFT plan to transform the signal in place.'</span></li>\n",
       "\t<li><span style=white-space:pre-wrap>'  cufftPlan1d(&amp;plan, *n, CUFFT_Z2Z, 1);'</span></li>\n",
       "\t<li><span style=white-space:pre-wrap>'  if (!*inverse ) {'</span></li>\n",
       "\t<li><span style=white-space:pre-wrap>'    cufftExecZ2Z(plan, d_data, d_data, CUFFT_FORWARD);'</span></li>\n",
       "\t<li><span style=white-space:pre-wrap>'  } else {'</span></li>\n",
       "\t<li><span style=white-space:pre-wrap>'    cufftExecZ2Z(plan, d_data, d_data, CUFFT_INVERSE);'</span></li>\n",
       "\t<li><span style=white-space:pre-wrap>'  }'</span></li>\n",
       "\t<li>''</li>\n",
       "\t<li><span style=white-space:pre-wrap>'  cudaMemcpy(h_data, d_data, sizeof(cufftDoubleComplex) * (*n), '</span></li>\n",
       "\t<li><span style=white-space:pre-wrap>'  cudaMemcpyDeviceToHost);'</span></li>\n",
       "\t<li><span style=white-space:pre-wrap>'  // split cufftDoubleComplex to double array'</span></li>\n",
       "\t<li><span style=white-space:pre-wrap>'  for(int i=0; i&lt;*n; i++) {'</span></li>\n",
       "\t<li><span style=white-space:pre-wrap>'    h_odata_re[i] = h_data[i].x;'</span></li>\n",
       "\t<li><span style=white-space:pre-wrap>'    h_odata_im[i] = h_data[i].y;'</span></li>\n",
       "\t<li><span style=white-space:pre-wrap>'  }'</span></li>\n",
       "\t<li>' '</li>\n",
       "\t<li><span style=white-space:pre-wrap>'  // Destroy the CUFFT plan and free memory.'</span></li>\n",
       "\t<li><span style=white-space:pre-wrap>'  cufftDestroy(plan);'</span></li>\n",
       "\t<li><span style=white-space:pre-wrap>'  cudaFree(d_data);'</span></li>\n",
       "\t<li><span style=white-space:pre-wrap>'  free(h_data);'</span></li>\n",
       "\t<li>'}'</li>\n",
       "</ol>\n"
      ],
      "text/latex": [
       "\\begin{enumerate*}\n",
       "\\item '\\#include <R.h>'\n",
       "\\item '\\#include <cufft.h>'\n",
       "\\item '/* This function is written for R to compute 1D FFT.'\n",
       "\\item '   n - {[}IN{]} the number of complex we want to compute'\n",
       "\\item '   inverse - {[}IN{]} set to 1 if use inverse mode'\n",
       "\\item '   h\\_idata\\_re - {[}IN{]} input data from host (R, real part)'\n",
       "\\item '   h\\_idata\\_im - {[}IN{]} input data from host (R, imaginary part)'\n",
       "\\item '   h\\_odata\\_re - {[}OUT{]} results (real) allocated by caller'\n",
       "\\item '   h\\_odata\\_im - {[}OUT{]} results (imaginary) allocated by caller'\n",
       "\\item '*/'\n",
       "\\item 'extern \"C\"'\n",
       "\\item 'void cufft(int *n, int *inverse, double *h\\_idata\\_re,'\n",
       "\\item '           double *h\\_idata\\_im, double *h\\_odata\\_re, double *h\\_odata\\_im)'\n",
       "\\item '\\{'\n",
       "\\item '  cufftHandle plan;'\n",
       "\\item '  cufftDoubleComplex *d\\_data, *h\\_data;'\n",
       "\\item '  cudaMalloc((void**)\\&d\\_data, sizeof(cufftDoubleComplex)*(*n));'\n",
       "\\item '  h\\_data = (cufftDoubleComplex *) malloc(sizeof(cufftDoubleComplex) * (*n));'\n",
       "\\item ''\n",
       "\\item '  // Convert data to cufftDoubleComplex type'\n",
       "\\item '  for(int i=0; i< *n; i++) \\{'\n",
       "\\item '    h\\_data{[}i{]}.x = h\\_idata\\_re{[}i{]};'\n",
       "\\item '    h\\_data{[}i{]}.y = h\\_idata\\_im{[}i{]};'\n",
       "\\item '  \\}'\n",
       "\\item ' '\n",
       "\\item '  cudaMemcpy(d\\_data, h\\_data, sizeof(cufftDoubleComplex) * (*n), '\n",
       "\\item '             cudaMemcpyHostToDevice);'\n",
       "\\item '  // Use the CUFFT plan to transform the signal in place.'\n",
       "\\item '  cufftPlan1d(\\&plan, *n, CUFFT\\_Z2Z, 1);'\n",
       "\\item '  if (!*inverse ) \\{'\n",
       "\\item '    cufftExecZ2Z(plan, d\\_data, d\\_data, CUFFT\\_FORWARD);'\n",
       "\\item '  \\} else \\{'\n",
       "\\item '    cufftExecZ2Z(plan, d\\_data, d\\_data, CUFFT\\_INVERSE);'\n",
       "\\item '  \\}'\n",
       "\\item ''\n",
       "\\item '  cudaMemcpy(h\\_data, d\\_data, sizeof(cufftDoubleComplex) * (*n), '\n",
       "\\item '  cudaMemcpyDeviceToHost);'\n",
       "\\item '  // split cufftDoubleComplex to double array'\n",
       "\\item '  for(int i=0; i<*n; i++) \\{'\n",
       "\\item '    h\\_odata\\_re{[}i{]} = h\\_data{[}i{]}.x;'\n",
       "\\item '    h\\_odata\\_im{[}i{]} = h\\_data{[}i{]}.y;'\n",
       "\\item '  \\}'\n",
       "\\item ' '\n",
       "\\item '  // Destroy the CUFFT plan and free memory.'\n",
       "\\item '  cufftDestroy(plan);'\n",
       "\\item '  cudaFree(d\\_data);'\n",
       "\\item '  free(h\\_data);'\n",
       "\\item '\\}'\n",
       "\\end{enumerate*}\n"
      ],
      "text/markdown": [
       "1. '#include &lt;R.h&gt;'\n",
       "2. '#include &lt;cufft.h&gt;'\n",
       "3. '/* This function is written for R to compute 1D FFT.'\n",
       "4. <span style=white-space:pre-wrap>'   n - [IN] the number of complex we want to compute'</span>\n",
       "5. <span style=white-space:pre-wrap>'   inverse - [IN] set to 1 if use inverse mode'</span>\n",
       "6. <span style=white-space:pre-wrap>'   h_idata_re - [IN] input data from host (R, real part)'</span>\n",
       "7. <span style=white-space:pre-wrap>'   h_idata_im - [IN] input data from host (R, imaginary part)'</span>\n",
       "8. <span style=white-space:pre-wrap>'   h_odata_re - [OUT] results (real) allocated by caller'</span>\n",
       "9. <span style=white-space:pre-wrap>'   h_odata_im - [OUT] results (imaginary) allocated by caller'</span>\n",
       "10. '*/'\n",
       "11. 'extern \"C\"'\n",
       "12. 'void cufft(int *n, int *inverse, double *h_idata_re,'\n",
       "13. <span style=white-space:pre-wrap>'           double *h_idata_im, double *h_odata_re, double *h_odata_im)'</span>\n",
       "14. '{'\n",
       "15. <span style=white-space:pre-wrap>'  cufftHandle plan;'</span>\n",
       "16. <span style=white-space:pre-wrap>'  cufftDoubleComplex *d_data, *h_data;'</span>\n",
       "17. <span style=white-space:pre-wrap>'  cudaMalloc((void**)&amp;d_data, sizeof(cufftDoubleComplex)*(*n));'</span>\n",
       "18. <span style=white-space:pre-wrap>'  h_data = (cufftDoubleComplex *) malloc(sizeof(cufftDoubleComplex) * (*n));'</span>\n",
       "19. ''\n",
       "20. <span style=white-space:pre-wrap>'  // Convert data to cufftDoubleComplex type'</span>\n",
       "21. <span style=white-space:pre-wrap>'  for(int i=0; i&lt; *n; i++) {'</span>\n",
       "22. <span style=white-space:pre-wrap>'    h_data[i].x = h_idata_re[i];'</span>\n",
       "23. <span style=white-space:pre-wrap>'    h_data[i].y = h_idata_im[i];'</span>\n",
       "24. <span style=white-space:pre-wrap>'  }'</span>\n",
       "25. ' '\n",
       "26. <span style=white-space:pre-wrap>'  cudaMemcpy(d_data, h_data, sizeof(cufftDoubleComplex) * (*n), '</span>\n",
       "27. <span style=white-space:pre-wrap>'             cudaMemcpyHostToDevice);'</span>\n",
       "28. <span style=white-space:pre-wrap>'  // Use the CUFFT plan to transform the signal in place.'</span>\n",
       "29. <span style=white-space:pre-wrap>'  cufftPlan1d(&amp;plan, *n, CUFFT_Z2Z, 1);'</span>\n",
       "30. <span style=white-space:pre-wrap>'  if (!*inverse ) {'</span>\n",
       "31. <span style=white-space:pre-wrap>'    cufftExecZ2Z(plan, d_data, d_data, CUFFT_FORWARD);'</span>\n",
       "32. <span style=white-space:pre-wrap>'  } else {'</span>\n",
       "33. <span style=white-space:pre-wrap>'    cufftExecZ2Z(plan, d_data, d_data, CUFFT_INVERSE);'</span>\n",
       "34. <span style=white-space:pre-wrap>'  }'</span>\n",
       "35. ''\n",
       "36. <span style=white-space:pre-wrap>'  cudaMemcpy(h_data, d_data, sizeof(cufftDoubleComplex) * (*n), '</span>\n",
       "37. <span style=white-space:pre-wrap>'  cudaMemcpyDeviceToHost);'</span>\n",
       "38. <span style=white-space:pre-wrap>'  // split cufftDoubleComplex to double array'</span>\n",
       "39. <span style=white-space:pre-wrap>'  for(int i=0; i&lt;*n; i++) {'</span>\n",
       "40. <span style=white-space:pre-wrap>'    h_odata_re[i] = h_data[i].x;'</span>\n",
       "41. <span style=white-space:pre-wrap>'    h_odata_im[i] = h_data[i].y;'</span>\n",
       "42. <span style=white-space:pre-wrap>'  }'</span>\n",
       "43. ' '\n",
       "44. <span style=white-space:pre-wrap>'  // Destroy the CUFFT plan and free memory.'</span>\n",
       "45. <span style=white-space:pre-wrap>'  cufftDestroy(plan);'</span>\n",
       "46. <span style=white-space:pre-wrap>'  cudaFree(d_data);'</span>\n",
       "47. <span style=white-space:pre-wrap>'  free(h_data);'</span>\n",
       "48. '}'\n",
       "\n",
       "\n"
      ],
      "text/plain": [
       " [1] \"#include <R.h>\"                                                              \n",
       " [2] \"#include <cufft.h>\"                                                          \n",
       " [3] \"/* This function is written for R to compute 1D FFT.\"                        \n",
       " [4] \"   n - [IN] the number of complex we want to compute\"                        \n",
       " [5] \"   inverse - [IN] set to 1 if use inverse mode\"                              \n",
       " [6] \"   h_idata_re - [IN] input data from host (R, real part)\"                    \n",
       " [7] \"   h_idata_im - [IN] input data from host (R, imaginary part)\"               \n",
       " [8] \"   h_odata_re - [OUT] results (real) allocated by caller\"                    \n",
       " [9] \"   h_odata_im - [OUT] results (imaginary) allocated by caller\"               \n",
       "[10] \"*/\"                                                                          \n",
       "[11] \"extern \\\"C\\\"\"                                                                \n",
       "[12] \"void cufft(int *n, int *inverse, double *h_idata_re,\"                        \n",
       "[13] \"           double *h_idata_im, double *h_odata_re, double *h_odata_im)\"      \n",
       "[14] \"{\"                                                                           \n",
       "[15] \"  cufftHandle plan;\"                                                         \n",
       "[16] \"  cufftDoubleComplex *d_data, *h_data;\"                                      \n",
       "[17] \"  cudaMalloc((void**)&d_data, sizeof(cufftDoubleComplex)*(*n));\"             \n",
       "[18] \"  h_data = (cufftDoubleComplex *) malloc(sizeof(cufftDoubleComplex) * (*n));\"\n",
       "[19] \"\"                                                                            \n",
       "[20] \"  // Convert data to cufftDoubleComplex type\"                                \n",
       "[21] \"  for(int i=0; i< *n; i++) {\"                                                \n",
       "[22] \"    h_data[i].x = h_idata_re[i];\"                                            \n",
       "[23] \"    h_data[i].y = h_idata_im[i];\"                                            \n",
       "[24] \"  }\"                                                                         \n",
       "[25] \" \"                                                                           \n",
       "[26] \"  cudaMemcpy(d_data, h_data, sizeof(cufftDoubleComplex) * (*n), \"            \n",
       "[27] \"             cudaMemcpyHostToDevice);\"                                       \n",
       "[28] \"  // Use the CUFFT plan to transform the signal in place.\"                   \n",
       "[29] \"  cufftPlan1d(&plan, *n, CUFFT_Z2Z, 1);\"                                     \n",
       "[30] \"  if (!*inverse ) {\"                                                         \n",
       "[31] \"    cufftExecZ2Z(plan, d_data, d_data, CUFFT_FORWARD);\"                      \n",
       "[32] \"  } else {\"                                                                  \n",
       "[33] \"    cufftExecZ2Z(plan, d_data, d_data, CUFFT_INVERSE);\"                      \n",
       "[34] \"  }\"                                                                         \n",
       "[35] \"\"                                                                            \n",
       "[36] \"  cudaMemcpy(h_data, d_data, sizeof(cufftDoubleComplex) * (*n), \"            \n",
       "[37] \"  cudaMemcpyDeviceToHost);\"                                                  \n",
       "[38] \"  // split cufftDoubleComplex to double array\"                               \n",
       "[39] \"  for(int i=0; i<*n; i++) {\"                                                 \n",
       "[40] \"    h_odata_re[i] = h_data[i].x;\"                                            \n",
       "[41] \"    h_odata_im[i] = h_data[i].y;\"                                            \n",
       "[42] \"  }\"                                                                         \n",
       "[43] \" \"                                                                           \n",
       "[44] \"  // Destroy the CUFFT plan and free memory.\"                                \n",
       "[45] \"  cufftDestroy(plan);\"                                                       \n",
       "[46] \"  cudaFree(d_data);\"                                                         \n",
       "[47] \"  free(h_data);\"                                                             \n",
       "[48] \"}\"                                                                           "
      ]
     },
     "metadata": {},
     "output_type": "display_data"
    }
   ],
   "source": [
    "system(\"cat cufft-R.cu\", intern = TRUE)"
   ]
  },
  {
   "cell_type": "code",
   "execution_count": 10,
   "metadata": {
    "ExecuteTime": {
     "end_time": "2019-04-23T22:08:20.860981Z",
     "start_time": "2019-04-23T22:08:20.388Z"
    }
   },
   "outputs": [
    {
     "data": {
      "text/html": [],
      "text/latex": [],
      "text/markdown": [],
      "text/plain": [
       "character(0)"
      ]
     },
     "metadata": {},
     "output_type": "display_data"
    }
   ],
   "source": [
    "system(\"nvcc -O3 -arch=sm_35 -G -I/usr/local/cuda/include          -I/usr/lib64/R/include           -L/usr/lib64/R/lib -lR           -L/usr/local/cuda/lib64 -lcufft           --shared -Xcompiler -fPIC -o cufft.so cufft-R.cu\", intern =  TRUE)"
   ]
  },
  {
   "cell_type": "code",
   "execution_count": 14,
   "metadata": {
    "ExecuteTime": {
     "end_time": "2019-04-23T22:08:56.420640Z",
     "start_time": "2019-04-23T22:08:56.400Z"
    }
   },
   "outputs": [
    {
     "data": {
      "text/html": [
       "<ol class=list-inline>\n",
       "\t<li>'cufft-R.cu'</li>\n",
       "\t<li>'cufft.so'</li>\n",
       "\t<li>'gpu_install_fail1.ipynb'</li>\n",
       "\t<li>'LICENSE'</li>\n",
       "\t<li>'README.md'</li>\n",
       "\t<li>'Untitled.ipynb'</li>\n",
       "</ol>\n"
      ],
      "text/latex": [
       "\\begin{enumerate*}\n",
       "\\item 'cufft-R.cu'\n",
       "\\item 'cufft.so'\n",
       "\\item 'gpu\\_install\\_fail1.ipynb'\n",
       "\\item 'LICENSE'\n",
       "\\item 'README.md'\n",
       "\\item 'Untitled.ipynb'\n",
       "\\end{enumerate*}\n"
      ],
      "text/markdown": [
       "1. 'cufft-R.cu'\n",
       "2. 'cufft.so'\n",
       "3. 'gpu_install_fail1.ipynb'\n",
       "4. 'LICENSE'\n",
       "5. 'README.md'\n",
       "6. 'Untitled.ipynb'\n",
       "\n",
       "\n"
      ],
      "text/plain": [
       "[1] \"cufft-R.cu\"              \"cufft.so\"               \n",
       "[3] \"gpu_install_fail1.ipynb\" \"LICENSE\"                \n",
       "[5] \"README.md\"               \"Untitled.ipynb\"         "
      ]
     },
     "metadata": {},
     "output_type": "display_data"
    }
   ],
   "source": [
    "dir()"
   ]
  },
  {
   "cell_type": "markdown",
   "metadata": {},
   "source": [
    "## load shared lib"
   ]
  },
  {
   "cell_type": "markdown",
   "metadata": {},
   "source": [
    "wrapper function in R"
   ]
  },
  {
   "cell_type": "code",
   "execution_count": 15,
   "metadata": {
    "ExecuteTime": {
     "end_time": "2019-04-23T22:09:48.793641Z",
     "start_time": "2019-04-23T22:09:48.634Z"
    }
   },
   "outputs": [],
   "source": [
    "cufft1D <- function(x, inverse=FALSE)\n",
    "{\n",
    "  if(!is.loaded(\"cufft\")) {\n",
    "    dyn.load(\"cufft.so\")\n",
    "  }\n",
    "  n <- length(x)\n",
    "  rst <- .C(\"cufft\",\n",
    "  as.integer(n),\n",
    "  as.integer(inverse),\n",
    "  as.double(Re(z)),\n",
    "  as.double(Im(z)),\n",
    "  re=double(length=n),\n",
    "  im=double(length=n))\n",
    "  rst <- complex(real = rst[[\"re\"]], imaginary = rst[[\"im\"]])\n",
    "  return(rst)\n",
    "}"
   ]
  },
  {
   "cell_type": "markdown",
   "metadata": {},
   "source": [
    "# Compare running time"
   ]
  },
  {
   "cell_type": "code",
   "execution_count": 34,
   "metadata": {
    "ExecuteTime": {
     "end_time": "2019-04-23T22:16:58.268718Z",
     "start_time": "2019-04-23T22:16:57.950Z"
    }
   },
   "outputs": [
    {
     "data": {
      "text/plain": [
       "   user  system elapsed \n",
       "   0.06    0.00    0.06 "
      ]
     },
     "metadata": {},
     "output_type": "display_data"
    }
   ],
   "source": [
    "num <- 2**20\n",
    "z <- complex(real = stats::rnorm(num), imaginary = stats::rnorm(num))\n",
    "\n",
    "system.time( cpu <- fft(z, inverse = T) )"
   ]
  },
  {
   "cell_type": "code",
   "execution_count": 35,
   "metadata": {
    "ExecuteTime": {
     "end_time": "2019-04-23T22:17:34.342645Z",
     "start_time": "2019-04-23T22:16:58.377Z"
    }
   },
   "outputs": [
    {
     "data": {
      "text/plain": [
       "   user  system elapsed \n",
       "  0.043   0.001   0.044 "
      ]
     },
     "metadata": {},
     "output_type": "display_data"
    }
   ],
   "source": [
    "system.time( gpu <- cufft1D(z, inverse = T) )"
   ]
  },
  {
   "cell_type": "code",
   "execution_count": 36,
   "metadata": {
    "ExecuteTime": {
     "end_time": "2019-04-23T22:18:06.083779Z",
     "start_time": "2019-04-23T22:16:58.849Z"
    }
   },
   "outputs": [
    {
     "data": {
      "text/plain": [
       "   user  system elapsed \n",
       "  0.063   0.001   0.062 "
      ]
     },
     "metadata": {},
     "output_type": "display_data"
    }
   ],
   "source": [
    "system.time( gpu <- fft(z) )"
   ]
  },
  {
   "cell_type": "code",
   "execution_count": 37,
   "metadata": {
    "ExecuteTime": {
     "end_time": "2019-04-23T22:18:47.360755Z",
     "start_time": "2019-04-23T22:16:59.412Z"
    }
   },
   "outputs": [
    {
     "data": {
      "text/plain": [
       "   user  system elapsed \n",
       "  0.046   0.003   0.049 "
      ]
     },
     "metadata": {},
     "output_type": "display_data"
    }
   ],
   "source": [
    "system.time( gpu <- cufft1D(z) )"
   ]
  }
 ],
 "metadata": {
  "kernelspec": {
   "display_name": "R",
   "language": "R",
   "name": "ir"
  },
  "language_info": {
   "codemirror_mode": "r",
   "file_extension": ".r",
   "mimetype": "text/x-r-source",
   "name": "R",
   "pygments_lexer": "r",
   "version": "3.5.1"
  },
  "toc": {
   "base_numbering": 1,
   "nav_menu": {},
   "number_sections": true,
   "sideBar": true,
   "skip_h1_title": false,
   "title_cell": "Table of Contents",
   "title_sidebar": "Contents",
   "toc_cell": false,
   "toc_position": {},
   "toc_section_display": true,
   "toc_window_display": false
  },
  "varInspector": {
   "cols": {
    "lenName": 16,
    "lenType": 16,
    "lenVar": 40
   },
   "kernels_config": {
    "python": {
     "delete_cmd_postfix": "",
     "delete_cmd_prefix": "del ",
     "library": "var_list.py",
     "varRefreshCmd": "print(var_dic_list())"
    },
    "r": {
     "delete_cmd_postfix": ") ",
     "delete_cmd_prefix": "rm(",
     "library": "var_list.r",
     "varRefreshCmd": "cat(var_dic_list()) "
    }
   },
   "types_to_exclude": [
    "module",
    "function",
    "builtin_function_or_method",
    "instance",
    "_Feature"
   ],
   "window_display": false
  }
 },
 "nbformat": 4,
 "nbformat_minor": 2
}
