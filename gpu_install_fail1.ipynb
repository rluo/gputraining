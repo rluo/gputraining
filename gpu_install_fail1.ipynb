{
 "cells": [
  {
   "cell_type": "markdown",
   "metadata": {},
   "source": [
    "# Overview\n",
    "\n",
    "GPUs are very efficient for *certain* numerial operations   but also with limitations.\n",
    "\n",
    "My personal opinion about GPU computing, based on my experience and observations. It had  never been popular and almost died until deep learning resurrected it a few years ago.  Deep Learning and Artificial Intelligence  are  the major driving forces for **NVIDIA** to further develop GPU computing libraries and hardware.\n",
    "\n",
    "Definitions:\n",
    "\n",
    "+ CUDA: a revolutionary parallel computing architecture from NVIDIA. It basically includes various libraries for matrix calculation and more on GPUs.\n",
    "\n",
    "\n",
    "Pros:\n",
    "\n",
    "+ Many more cores (thousands) than CPUs (a few dozen)\n",
    "+ Faster for simple, parallelable tasks\n",
    "\n",
    "Cons:\n",
    "\n",
    "+ Simpler calculations (CS: instruction sets) than CPU. For example, CUDA does not support SIMD\n",
    "+ Much harder to set-up.  It took a team effort of users and system administrators several days of iterations to set it up right, in order to show today's example.\n",
    "+ Many users with little experience of unix/linux probably do not know where the problems are for setting up GPUs.\n",
    "+ Even the most advanced software companies, such as Google, found it challenging to make their GPU software easy to install. So they say \"we recommend using a TensorFlow Docker image with GPU support (Linux only).\" \n",
    "+ Some algorithms  benefit from GPU computing but not all algorithms, see https://medium.com/datathings/benchmarking-blas-libraries-b57fb1c6dc7\n",
    "+ Most machine learning libraries don't and has no plans to support GPUs. I totally agree with their position.  scikit-learn says for GPU support: \"No, or at least not in the near future.\", see https://scikit-learn.org/stable/faq.html\n",
    "\n"
   ]
  },
  {
   "cell_type": "markdown",
   "metadata": {},
   "source": [
    "# Install packages"
   ]
  },
  {
   "cell_type": "code",
   "execution_count": 1,
   "metadata": {
    "ExecuteTime": {
     "end_time": "2019-04-22T20:18:32.984827Z",
     "start_time": "2019-04-22T20:15:25.340548Z"
    }
   },
   "outputs": [
    {
     "name": "stdout",
     "output_type": "stream",
     "text": [
      "Solving environment: ...working... done\n",
      "\n",
      "# All requested packages already installed.\n",
      "\n",
      "Solving environment: ...working... done\n",
      "\n",
      "# All requested packages already installed.\n",
      "\n",
      "Collecting yapf\n",
      "  Downloading https://files.pythonhosted.org/packages/bb/f1/d453afc8653f49edf6382dd43f69bef1a1df3e240949eba8b7adb649b868/yapf-0.27.0-py2.py3-none-any.whl (178kB)\n",
      "Installing collected packages: yapf\n",
      "Successfully installed yapf-0.27.0\n"
     ]
    },
    {
     "name": "stderr",
     "output_type": "stream",
     "text": [
      "\n",
      "\n",
      "==> WARNING: A newer version of conda exists. <==\n",
      "  current version: 4.5.12\n",
      "  latest version: 4.6.14\n",
      "\n",
      "Please update conda by running\n",
      "\n",
      "    $ conda update -n base -c defaults conda\n",
      "\n",
      "\n",
      "/home/xluo/.conda/envs/pyr/lib/python3.7/site-packages/notebook/services/kernels/kernelmanager.py:19: VisibleDeprecationWarning: zmq.eventloop.minitornado is deprecated in pyzmq 14.0 and will be removed.\n",
      "    Install tornado itself to use zmq with the tornado IOLoop.\n",
      "    \n",
      "  from jupyter_client.session import Session\n",
      "[I 15:17:15 InstallContribNbextensionsApp] jupyter contrib nbextension install --user\n",
      "[I 15:17:15 InstallContribNbextensionsApp] Installing jupyter_contrib_nbextensions nbextension files to jupyter data directory\n",
      "[I 15:17:15 InstallContribNbextensionsApp] Installing /home/xluo/.conda/envs/pyr/lib/python3.7/site-packages/jupyter_contrib_nbextensions/nbextensions/addbefore -> addbefore\n",
      "[I 15:17:15 InstallContribNbextensionsApp] Making directory: /home/xluo/.local/share/jupyter/nbextensions/addbefore/\n",
      "[I 15:17:15 InstallContribNbextensionsApp] Copying: /home/xluo/.conda/envs/pyr/lib/python3.7/site-packages/jupyter_contrib_nbextensions/nbextensions/addbefore/addbefore.yaml -> /home/xluo/.local/share/jupyter/nbextensions/addbefore/addbefore.yaml\n",
      "[I 15:17:15 InstallContribNbextensionsApp] Copying: /home/xluo/.conda/envs/pyr/lib/python3.7/site-packages/jupyter_contrib_nbextensions/nbextensions/addbefore/icon.png -> /home/xluo/.local/share/jupyter/nbextensions/addbefore/icon.png\n",
      "[I 15:17:15 InstallContribNbextensionsApp] Copying: /home/xluo/.conda/envs/pyr/lib/python3.7/site-packages/jupyter_contrib_nbextensions/nbextensions/addbefore/main.js -> /home/xluo/.local/share/jupyter/nbextensions/addbefore/main.js\n",
      "[I 15:17:15 InstallContribNbextensionsApp] Copying: /home/xluo/.conda/envs/pyr/lib/python3.7/site-packages/jupyter_contrib_nbextensions/nbextensions/addbefore/readme.md -> /home/xluo/.local/share/jupyter/nbextensions/addbefore/readme.md\n",
      "[I 15:17:15 InstallContribNbextensionsApp] - Validating: \u001b[32mOK\u001b[0m\n",
      "[I 15:17:15 InstallContribNbextensionsApp] Installing /home/xluo/.conda/envs/pyr/lib/python3.7/site-packages/jupyter_contrib_nbextensions/nbextensions/autosavetime -> autosavetime\n",
      "[I 15:17:15 InstallContribNbextensionsApp] Making directory: /home/xluo/.local/share/jupyter/nbextensions/autosavetime/\n",
      "[I 15:17:15 InstallContribNbextensionsApp] Copying: /home/xluo/.conda/envs/pyr/lib/python3.7/site-packages/jupyter_contrib_nbextensions/nbextensions/autosavetime/README.md -> /home/xluo/.local/share/jupyter/nbextensions/autosavetime/README.md\n",
      "[I 15:17:15 InstallContribNbextensionsApp] Copying: /home/xluo/.conda/envs/pyr/lib/python3.7/site-packages/jupyter_contrib_nbextensions/nbextensions/autosavetime/autosavetime.yaml -> /home/xluo/.local/share/jupyter/nbextensions/autosavetime/autosavetime.yaml\n",
      "[I 15:17:15 InstallContribNbextensionsApp] Copying: /home/xluo/.conda/envs/pyr/lib/python3.7/site-packages/jupyter_contrib_nbextensions/nbextensions/autosavetime/icon.png -> /home/xluo/.local/share/jupyter/nbextensions/autosavetime/icon.png\n",
      "[I 15:17:15 InstallContribNbextensionsApp] Copying: /home/xluo/.conda/envs/pyr/lib/python3.7/site-packages/jupyter_contrib_nbextensions/nbextensions/autosavetime/main.js -> /home/xluo/.local/share/jupyter/nbextensions/autosavetime/main.js\n",
      "[I 15:17:15 InstallContribNbextensionsApp] - Validating: \u001b[32mOK\u001b[0m\n",
      "[I 15:17:15 InstallContribNbextensionsApp] Installing /home/xluo/.conda/envs/pyr/lib/python3.7/site-packages/jupyter_contrib_nbextensions/nbextensions/autoscroll -> autoscroll\n",
      "[I 15:17:15 InstallContribNbextensionsApp] Making directory: /home/xluo/.local/share/jupyter/nbextensions/autoscroll/\n",
      "[I 15:17:15 InstallContribNbextensionsApp] Copying: /home/xluo/.conda/envs/pyr/lib/python3.7/site-packages/jupyter_contrib_nbextensions/nbextensions/autoscroll/README.md -> /home/xluo/.local/share/jupyter/nbextensions/autoscroll/README.md\n",
      "[I 15:17:15 InstallContribNbextensionsApp] Copying: /home/xluo/.conda/envs/pyr/lib/python3.7/site-packages/jupyter_contrib_nbextensions/nbextensions/autoscroll/autoscroll.yaml -> /home/xluo/.local/share/jupyter/nbextensions/autoscroll/autoscroll.yaml\n",
      "[I 15:17:15 InstallContribNbextensionsApp] Copying: /home/xluo/.conda/envs/pyr/lib/python3.7/site-packages/jupyter_contrib_nbextensions/nbextensions/autoscroll/icon.png -> /home/xluo/.local/share/jupyter/nbextensions/autoscroll/icon.png\n",
      "[I 15:17:15 InstallContribNbextensionsApp] Copying: /home/xluo/.conda/envs/pyr/lib/python3.7/site-packages/jupyter_contrib_nbextensions/nbextensions/autoscroll/main.js -> /home/xluo/.local/share/jupyter/nbextensions/autoscroll/main.js\n",
      "[I 15:17:15 InstallContribNbextensionsApp] - Validating: \u001b[32mOK\u001b[0m\n",
      "[I 15:17:15 InstallContribNbextensionsApp] Installing /home/xluo/.conda/envs/pyr/lib/python3.7/site-packages/jupyter_contrib_nbextensions/nbextensions/cell_filter -> cell_filter\n",
      "[I 15:17:15 InstallContribNbextensionsApp] Making directory: /home/xluo/.local/share/jupyter/nbextensions/cell_filter/\n",
      "[I 15:17:15 InstallContribNbextensionsApp] Copying: /home/xluo/.conda/envs/pyr/lib/python3.7/site-packages/jupyter_contrib_nbextensions/nbextensions/cell_filter/README.md -> /home/xluo/.local/share/jupyter/nbextensions/cell_filter/README.md\n",
      "[I 15:17:15 InstallContribNbextensionsApp] Copying: /home/xluo/.conda/envs/pyr/lib/python3.7/site-packages/jupyter_contrib_nbextensions/nbextensions/cell_filter/cell_filter.js -> /home/xluo/.local/share/jupyter/nbextensions/cell_filter/cell_filter.js\n",
      "[I 15:17:15 InstallContribNbextensionsApp] Copying: /home/xluo/.conda/envs/pyr/lib/python3.7/site-packages/jupyter_contrib_nbextensions/nbextensions/cell_filter/cell_filter.yml -> /home/xluo/.local/share/jupyter/nbextensions/cell_filter/cell_filter.yml\n",
      "[I 15:17:15 InstallContribNbextensionsApp] - Validating: \u001b[32mOK\u001b[0m\n",
      "[I 15:17:15 InstallContribNbextensionsApp] Installing /home/xluo/.conda/envs/pyr/lib/python3.7/site-packages/jupyter_contrib_nbextensions/nbextensions/code_font_size -> code_font_size\n",
      "[I 15:17:15 InstallContribNbextensionsApp] Making directory: /home/xluo/.local/share/jupyter/nbextensions/code_font_size/\n",
      "[I 15:17:15 InstallContribNbextensionsApp] Copying: /home/xluo/.conda/envs/pyr/lib/python3.7/site-packages/jupyter_contrib_nbextensions/nbextensions/code_font_size/README.md -> /home/xluo/.local/share/jupyter/nbextensions/code_font_size/README.md\n",
      "[I 15:17:15 InstallContribNbextensionsApp] Copying: /home/xluo/.conda/envs/pyr/lib/python3.7/site-packages/jupyter_contrib_nbextensions/nbextensions/code_font_size/code_font_size.js -> /home/xluo/.local/share/jupyter/nbextensions/code_font_size/code_font_size.js\n",
      "[I 15:17:15 InstallContribNbextensionsApp] Copying: /home/xluo/.conda/envs/pyr/lib/python3.7/site-packages/jupyter_contrib_nbextensions/nbextensions/code_font_size/code_font_size.yaml -> /home/xluo/.local/share/jupyter/nbextensions/code_font_size/code_font_size.yaml\n",
      "[I 15:17:15 InstallContribNbextensionsApp] - Validating: \u001b[32mOK\u001b[0m\n",
      "[I 15:17:15 InstallContribNbextensionsApp] Installing /home/xluo/.conda/envs/pyr/lib/python3.7/site-packages/jupyter_contrib_nbextensions/nbextensions/code_prettify -> code_prettify\n",
      "[I 15:17:15 InstallContribNbextensionsApp] Making directory: /home/xluo/.local/share/jupyter/nbextensions/code_prettify/\n",
      "[I 15:17:15 InstallContribNbextensionsApp] Copying: /home/xluo/.conda/envs/pyr/lib/python3.7/site-packages/jupyter_contrib_nbextensions/nbextensions/code_prettify/2to3.js -> /home/xluo/.local/share/jupyter/nbextensions/code_prettify/2to3.js\n",
      "[I 15:17:15 InstallContribNbextensionsApp] Copying: /home/xluo/.conda/envs/pyr/lib/python3.7/site-packages/jupyter_contrib_nbextensions/nbextensions/code_prettify/2to3.yaml -> /home/xluo/.local/share/jupyter/nbextensions/code_prettify/2to3.yaml\n",
      "[I 15:17:15 InstallContribNbextensionsApp] Copying: /home/xluo/.conda/envs/pyr/lib/python3.7/site-packages/jupyter_contrib_nbextensions/nbextensions/code_prettify/README.md -> /home/xluo/.local/share/jupyter/nbextensions/code_prettify/README.md\n",
      "[I 15:17:15 InstallContribNbextensionsApp] Copying: /home/xluo/.conda/envs/pyr/lib/python3.7/site-packages/jupyter_contrib_nbextensions/nbextensions/code_prettify/README_2to3.md -> /home/xluo/.local/share/jupyter/nbextensions/code_prettify/README_2to3.md\n",
      "[I 15:17:15 InstallContribNbextensionsApp] Copying: /home/xluo/.conda/envs/pyr/lib/python3.7/site-packages/jupyter_contrib_nbextensions/nbextensions/code_prettify/README_autopep8.md -> /home/xluo/.local/share/jupyter/nbextensions/code_prettify/README_autopep8.md\n",
      "[I 15:17:15 InstallContribNbextensionsApp] Copying: /home/xluo/.conda/envs/pyr/lib/python3.7/site-packages/jupyter_contrib_nbextensions/nbextensions/code_prettify/README_code_prettify.md -> /home/xluo/.local/share/jupyter/nbextensions/code_prettify/README_code_prettify.md\n",
      "[I 15:17:15 InstallContribNbextensionsApp] Copying: /home/xluo/.conda/envs/pyr/lib/python3.7/site-packages/jupyter_contrib_nbextensions/nbextensions/code_prettify/README_isort.md -> /home/xluo/.local/share/jupyter/nbextensions/code_prettify/README_isort.md\n",
      "[I 15:17:15 InstallContribNbextensionsApp] Copying: /home/xluo/.conda/envs/pyr/lib/python3.7/site-packages/jupyter_contrib_nbextensions/nbextensions/code_prettify/autopep8.js -> /home/xluo/.local/share/jupyter/nbextensions/code_prettify/autopep8.js\n",
      "[I 15:17:15 InstallContribNbextensionsApp] Copying: /home/xluo/.conda/envs/pyr/lib/python3.7/site-packages/jupyter_contrib_nbextensions/nbextensions/code_prettify/autopep8.yaml -> /home/xluo/.local/share/jupyter/nbextensions/code_prettify/autopep8.yaml\n",
      "[I 15:17:15 InstallContribNbext"
     ]
    },
    {
     "data": {
      "text/html": [
       "<b>limit_output extension: Maximum message size of 10000 exceeded with 140454 characters</b>"
      ]
     },
     "metadata": {},
     "output_type": "display_data"
    }
   ],
   "source": [
    "%%bash\n",
    "conda install -c conda-forge jupyter_contrib_nbextensions\n",
    "jupyter contrib nbextension install --user\n",
    "conda install -c conda-forge jupyter_nbextensions_configurator\n",
    "jupyter nbextensions_configurator enable --user\n",
    "pip install yapf"
   ]
  },
  {
   "cell_type": "code",
   "execution_count": 2,
   "metadata": {
    "ExecuteTime": {
     "end_time": "2019-04-22T20:18:33.361017Z",
     "start_time": "2019-04-22T20:18:32.991516Z"
    }
   },
   "outputs": [
    {
     "name": "stdout",
     "output_type": "stream",
     "text": [
      "Requirement already satisfied: numpy in /home/xluo/.conda/envs/pyr/lib/python3.7/site-packages (1.16.3)\n",
      "Requirement already satisfied: scipy in /home/xluo/.conda/envs/pyr/lib/python3.7/site-packages (1.2.1)\n",
      "Requirement already satisfied: pandas in /home/xluo/.conda/envs/pyr/lib/python3.7/site-packages (0.24.2)\n",
      "Requirement already satisfied: pytz>=2011k in /home/xluo/.conda/envs/pyr/lib/python3.7/site-packages (from pandas) (2019.1)\n",
      "Requirement already satisfied: python-dateutil>=2.5.0 in /home/xluo/.conda/envs/pyr/lib/python3.7/site-packages (from pandas) (2.8.0)\n",
      "Requirement already satisfied: six>=1.5 in /home/xluo/.conda/envs/pyr/lib/python3.7/site-packages (from python-dateutil>=2.5.0->pandas) (1.12.0)\n"
     ]
    }
   ],
   "source": [
    "%%bash\n",
    "pip install numpy scipy pandas"
   ]
  },
  {
   "cell_type": "code",
   "execution_count": 3,
   "metadata": {
    "ExecuteTime": {
     "end_time": "2019-04-22T20:18:35.806530Z",
     "start_time": "2019-04-22T20:18:33.366717Z"
    }
   },
   "outputs": [
    {
     "name": "stdout",
     "output_type": "stream",
     "text": [
      "Collecting seaborn\n",
      "  Downloading https://files.pythonhosted.org/packages/a8/76/220ba4420459d9c4c9c9587c6ce607bf56c25b3d3d2de62056efe482dadc/seaborn-0.9.0-py3-none-any.whl (208kB)\n",
      "Collecting ipywidgets\n",
      "  Downloading https://files.pythonhosted.org/packages/30/9a/a008c7b1183fac9e52066d80a379b3c64eab535bd9d86cdc29a0b766fd82/ipywidgets-7.4.2-py2.py3-none-any.whl (111kB)\n",
      "Collecting pivottablejs\n",
      "  Downloading https://files.pythonhosted.org/packages/0b/0f/46f1c9a1c9bf1540d3b7803753517fa9755cddc648769ba8cd67de82b51c/pivottablejs-0.9.0-py2.py3-none-any.whl\n",
      "Requirement already satisfied: numpy>=1.9.3 in /home/xluo/.conda/envs/pyr/lib/python3.7/site-packages (from seaborn) (1.16.3)\n",
      "Requirement already satisfied: scipy>=0.14.0 in /home/xluo/.conda/envs/pyr/lib/python3.7/site-packages (from seaborn) (1.2.1)\n",
      "Collecting matplotlib>=1.4.3 (from seaborn)\n",
      "  Downloading https://files.pythonhosted.org/packages/83/2a/e47bbd9396af32376863a426baed62d9bf3091f81defd1fe81c5f33b11a3/matplotlib-3.0.3-cp37-cp37m-manylinux1_x86_64.whl (13.0MB)\n",
      "Requirement already satisfied: pandas>=0.15.2 in /home/xluo/.conda/envs/pyr/lib/python3.7/site-packages (from seaborn) (0.24.2)\n",
      "Requirement already satisfied: nbformat>=4.2.0 in /home/xluo/.conda/envs/pyr/lib/python3.7/site-packages (from ipywidgets) (4.4.0)\n",
      "Requirement already satisfied: ipykernel>=4.5.1 in /home/xluo/.conda/envs/pyr/lib/python3.7/site-packages (from ipywidgets) (5.1.0)\n",
      "Requirement already satisfied: ipython>=4.0.0; python_version >= \"3.3\" in /home/xluo/.conda/envs/pyr/lib/python3.7/site-packages (from ipywidgets) (7.4.0)\n",
      "Collecting widgetsnbextension~=3.4.0 (from ipywidgets)\n",
      "  Downloading https://files.pythonhosted.org/packages/8a/81/35789a3952afb48238289171728072d26d6e76649ddc8b3588657a2d78c1/widgetsnbextension-3.4.2-py2.py3-none-any.whl (2.2MB)\n",
      "Requirement already satisfied: traitlets>=4.3.1 in /home/xluo/.conda/envs/pyr/lib/python3.7/site-packages (from ipywidgets) (4.3.2)\n",
      "Requirement already satisfied: python-dateutil>=2.1 in /home/xluo/.conda/envs/pyr/lib/python3.7/site-packages (from matplotlib>=1.4.3->seaborn) (2.8.0)\n",
      "Collecting pyparsing!=2.0.4,!=2.1.2,!=2.1.6,>=2.0.1 (from matplotlib>=1.4.3->seaborn)\n",
      "  Downloading https://files.pythonhosted.org/packages/dd/d9/3ec19e966301a6e25769976999bd7bbe552016f0d32b577dc9d63d2e0c49/pyparsing-2.4.0-py2.py3-none-any.whl (62kB)\n",
      "Collecting cycler>=0.10 (from matplotlib>=1.4.3->seaborn)\n",
      "  Downloading https://files.pythonhosted.org/packages/f7/d2/e07d3ebb2bd7af696440ce7e754c59dd546ffe1bbe732c8ab68b9c834e61/cycler-0.10.0-py2.py3-none-any.whl\n",
      "Collecting kiwisolver>=1.0.1 (from matplotlib>=1.4.3->seaborn)\n",
      "  Downloading https://files.pythonhosted.org/packages/5c/7e/d6cae2f241ba474a2665f24b480bf4e247036d63939dda2bbc4d2ee5069d/kiwisolver-1.0.1-cp37-cp37m-manylinux1_x86_64.whl (89kB)\n",
      "Requirement already satisfied: pytz>=2011k in /home/xluo/.conda/envs/pyr/lib/python3.7/site-packages (from pandas>=0.15.2->seaborn) (2019.1)\n",
      "Requirement already satisfied: jsonschema!=2.5.0,>=2.4 in /home/xluo/.conda/envs/pyr/lib/python3.7/site-packages (from nbformat>=4.2.0->ipywidgets) (3.0.1)\n",
      "Requirement already satisfied: ipython-genutils in /home/xluo/.conda/envs/pyr/lib/python3.7/site-packages (from nbformat>=4.2.0->ipywidgets) (0.2.0)\n",
      "Requirement already satisfied: jupyter-core in /home/xluo/.conda/envs/pyr/lib/python3.7/site-packages (from nbformat>=4.2.0->ipywidgets) (4.4.0)\n",
      "Requirement already satisfied: tornado>=4.2 in /home/xluo/.conda/envs/pyr/lib/python3.7/site-packages (from ipykernel>=4.5.1->ipywidgets) (6.0.2)\n",
      "Requirement already satisfied: jupyter-client in /home/xluo/.conda/envs/pyr/lib/python3.7/site-packages (from ipykernel>=4.5.1->ipywidgets) (5.2.4)\n",
      "Requirement already satisfied: pygments in /home/xluo/.conda/envs/pyr/lib/python3.7/site-packages (from ipython>=4.0.0; python_version >= \"3.3\"->ipywidgets) (2.3.1)\n",
      "Requirement already satisfied: backcall in /home/xluo/.conda/envs/pyr/lib/python3.7/site-packages (from ipython>=4.0.0; python_version >= \"3.3\"->ipywidgets) (0.1.0)\n",
      "Requirement already satisfied: pickleshare in /home/xluo/.conda/envs/pyr/lib/python3.7/site-packages (from ipython>=4.0.0; python_version >= \"3.3\"->ipywidgets) (0.7.5)\n",
      "Requirement already satisfied: prompt-toolkit<2.1.0,>=2.0.0 in /home/xluo/.conda/envs/pyr/lib/python3.7/site-packages (from ipython>=4.0.0; python_version >= \"3.3\"->ipywidgets) (2.0.9)\n",
      "Requirement already satisfied: decorator in /home/xluo/.conda/envs/pyr/lib/python3.7/site-packages (from ipython>=4.0.0; python_version >= \"3.3\"->ipywidgets) (4.4.0)\n",
      "Requirement already satisfied: setuptools>=18.5 in /home/xluo/.conda/envs/pyr/lib/python3.7/site-packages (from ipython>=4.0.0; python_version >= \"3.3\"->ipywidgets) (41.0.0)\n",
      "Requirement already satisfied: jedi>=0.10 in /home/xluo/.conda/envs/pyr/lib/python3.7/site-packages (from ipython>=4.0.0; python_version >= \"3.3\"->ipywidgets) (0.13.3)\n",
      "Requirement already satisfied: pexpect; sys_platform != \"win32\" in /home/xluo/.conda/envs/pyr/lib/python3.7/site-packages (from ipython>=4.0.0; python_version >= \"3.3\"->ipywidgets) (4.7.0)\n",
      "Requirement already satisfied: notebook>=4.4.1 in /home/xluo/.conda/envs/pyr/lib/python3.7/site-packages (from widgetsnbextension~=3.4.0->ipywidgets) (5.7.8)\n",
      "Requirement already satisfied: six in /home/xluo/.conda/envs/pyr/lib/python3.7/site-packages (from traitlets>=4.3.1->ipywidgets) (1.12.0)\n",
      "Requirement already satisfied: attrs>=17.4.0 in /home/xluo/.conda/envs/pyr/lib/python3.7/site-packages (from jsonschema!=2.5.0,>=2.4->nbformat>=4.2.0->ipywidgets) (19.1.0)\n",
      "Requirement already satisfied: pyrsistent>=0.14.0 in /home/xluo/.conda/envs/pyr/lib/python3.7/site-packages (from jsonschema!=2.5.0,>=2.4->nbformat>=4.2.0->ipywidgets) (0.14.11)\n",
      "Requirement already satisfied: pyzmq>=13 in /home/xluo/.conda/envs/pyr/lib/python3.7/site-packages (from jupyter-client->ipykernel>=4.5.1->ipywidgets) (17.1.2)\n",
      "Requirement already satisfied: wcwidth in /home/xluo/.conda/envs/pyr/lib/python3.7/site-packages (from prompt-toolkit<2.1.0,>=2.0.0->ipython>=4.0.0; python_version >= \"3.3\"->ipywidgets) (0.1.7)\n",
      "Requirement already satisfied: parso>=0.3.0 in /home/xluo/.conda/envs/pyr/lib/python3.7/site-packages (from jedi>=0.10->ipython>=4.0.0; python_version >= \"3.3\"->ipywidgets) (0.4.0)\n",
      "Requirement already satisfied: ptyprocess>=0.5 in /home/xluo/.conda/envs/pyr/lib/python3.7/site-packages (from pexpect; sys_platform != \"win32\"->ipython>=4.0.0; python_version >= \"3.3\"->ipywidgets) (0.6.0)\n",
      "Requirement already satisfied: Send2Trash in /home/xluo/.conda/envs/pyr/lib/python3.7/site-packages (from notebook>=4.4.1->widgetsnbextension~=3.4.0->ipywidgets) (1.5.0)\n",
      "Requirement already satisfied: nbconvert in /home/xluo/.conda/envs/pyr/lib/python3.7/site-packages (from notebook>=4.4.1->widgetsnbextension~=3.4.0->ipywidgets) (5.4.1)\n",
      "Requirement already satisfied: terminado>=0.8.1 in /home/xluo/.conda/envs/pyr/lib/python3.7/site-packages (from notebook>=4.4.1->widgetsnbextension~=3.4.0->ipywidgets) (0.8.2)\n",
      "Requirement already satisfied: prometheus-client in /home/xluo/.conda/envs/pyr/lib/python3.7/site-packages (from notebook>=4.4.1->widgetsnbextension~=3.4.0->ipywidgets) (0.6.0)\n",
      "Requirement already satisfied: jinja2 in /home/xluo/.conda/envs/pyr/lib/python3.7/site-packages (from notebook>=4.4.1->widgetsnbextension~=3.4.0->ipywidgets) (2.10.1)\n",
      "Requirement already satisfied: mistune>=0.8.1 in /home/xluo/.conda/envs/pyr/lib/python3.7/site-packages (from nbconvert->notebook>=4.4.1->widgetsnbextension~=3.4.0->ipywidgets) (0.8.4)\n",
      "Requirement already satisfied: entrypoints>=0.2.2 in /home/xluo/.conda/envs/pyr/lib/python3.7/site-packages (from nbconvert->notebook>=4.4.1->widgetsnbextension~=3.4.0->ipywidgets) (0.3)\n",
      "Requirement already satisfied: bleach in /home/xluo/.conda/envs/pyr/lib/python3.7/site-packages (from nbconvert->notebook>=4.4.1->widgetsnbextension~=3.4.0->ipywidgets) (3.1.0)\n",
      "Requirement already satisfied: pandocfilters>=1.4.1 in /home/xluo/.conda/envs/pyr/lib/python3.7/site-packages (from nbconvert->notebook>=4.4.1->widgetsnbextension~=3.4.0->ipywidgets) (1.4.2)\n",
      "Requirement already satisfied: testpath in /home/xluo/.conda/envs/pyr/lib/python3.7/site-packages (from nbconvert->notebook>=4.4.1->widgetsnbextension~=3.4.0->ipywidgets) (0.4.2)\n",
      "Requirement already satisfied: defusedxml in /home/xluo/.conda/envs/pyr/lib/python3.7/site-packages (from nbconvert->notebook>=4.4.1->widgetsnbextension~=3.4.0->ipywidgets) (0.5.0)\n",
      "Requirement already satisfied: MarkupSafe>=0.23 in /home/xluo/.conda/envs/pyr/lib/python3.7/site-packages (from jinja2->notebook>=4.4.1->widgetsnbextension~=3.4.0->ipywidgets) (1.1.1)\n",
      "Requirement already satisfied: webencodings in /home/xluo/.conda/envs/pyr/lib/python3.7/site-packages (from bleach->nbconvert->notebook>=4.4.1->widgetsnbextension~=3.4.0->ipywidgets) (0.5.1)\n",
      "Installing collected packages: pyparsing, cycler, kiwisolver, matplotlib, seaborn, widgetsnbextension, ipywidgets, pivottablejs\n",
      "Successfully installed cycler-0.10.0 ipywidgets-7.4.2 kiwisolver-1.0.1 matplotlib-3.0.3 pivottablejs-0.9.0 pyparsing-2.4.0 seaborn-0.9.0 widgetsnbextension-3.4.2\n"
     ]
    }
   ],
   "source": [
    "%%bash\n",
    "pip install seaborn ipywidgets pivottablejs"
   ]
  },
  {
   "cell_type": "markdown",
   "metadata": {},
   "source": [
    "# Install Tensor Flow"
   ]
  },
  {
   "cell_type": "code",
   "execution_count": 5,
   "metadata": {
    "ExecuteTime": {
     "end_time": "2019-04-22T20:19:21.017302Z",
     "start_time": "2019-04-22T20:19:20.464273Z"
    }
   },
   "outputs": [
    {
     "name": "stdout",
     "output_type": "stream",
     "text": [
      "Requirement already up-to-date: pip in /home/xluo/.conda/envs/pyr/lib/python3.7/site-packages (19.0.3)\r\n"
     ]
    }
   ],
   "source": [
    "!pip install --upgrade pip"
   ]
  },
  {
   "cell_type": "code",
   "execution_count": 6,
   "metadata": {
    "ExecuteTime": {
     "end_time": "2019-04-23T18:37:12.297355Z",
     "start_time": "2019-04-23T18:37:11.727489Z"
    }
   },
   "outputs": [
    {
     "name": "stdout",
     "output_type": "stream",
     "text": [
      "Requirement already satisfied: tensorflow==1.13.1 in /home/xluo/.conda/envs/pyr/lib/python3.7/site-packages (1.13.1)\n",
      "Requirement already satisfied: grpcio>=1.8.6 in /home/xluo/.conda/envs/pyr/lib/python3.7/site-packages (from tensorflow==1.13.1) (1.20.0)\n",
      "Requirement already satisfied: wheel>=0.26 in /home/xluo/.conda/envs/pyr/lib/python3.7/site-packages (from tensorflow==1.13.1) (0.33.1)\n",
      "Requirement already satisfied: astor>=0.6.0 in /home/xluo/.conda/envs/pyr/lib/python3.7/site-packages (from tensorflow==1.13.1) (0.7.1)\n",
      "Requirement already satisfied: gast>=0.2.0 in /home/xluo/.conda/envs/pyr/lib/python3.7/site-packages (from tensorflow==1.13.1) (0.2.2)\n",
      "Requirement already satisfied: tensorflow-estimator<1.14.0rc0,>=1.13.0 in /home/xluo/.conda/envs/pyr/lib/python3.7/site-packages (from tensorflow==1.13.1) (1.13.0)\n",
      "Requirement already satisfied: absl-py>=0.1.6 in /home/xluo/.conda/envs/pyr/lib/python3.7/site-packages (from tensorflow==1.13.1) (0.7.1)\n",
      "Requirement already satisfied: keras-preprocessing>=1.0.5 in /home/xluo/.conda/envs/pyr/lib/python3.7/site-packages (from tensorflow==1.13.1) (1.0.9)\n",
      "Requirement already satisfied: numpy>=1.13.3 in /home/xluo/.conda/envs/pyr/lib/python3.7/site-packages (from tensorflow==1.13.1) (1.16.3)\n",
      "Requirement already satisfied: protobuf>=3.6.1 in /home/xluo/.conda/envs/pyr/lib/python3.7/site-packages (from tensorflow==1.13.1) (3.7.1)\n",
      "Requirement already satisfied: termcolor>=1.1.0 in /home/xluo/.conda/envs/pyr/lib/python3.7/site-packages (from tensorflow==1.13.1) (1.1.0)\n",
      "Requirement already satisfied: six>=1.10.0 in /home/xluo/.conda/envs/pyr/lib/python3.7/site-packages (from tensorflow==1.13.1) (1.12.0)\n",
      "Requirement already satisfied: keras-applications>=1.0.6 in /home/xluo/.conda/envs/pyr/lib/python3.7/site-packages (from tensorflow==1.13.1) (1.0.7)\n",
      "Requirement already satisfied: tensorboard<1.14.0,>=1.13.0 in /home/xluo/.conda/envs/pyr/lib/python3.7/site-packages (from tensorflow==1.13.1) (1.13.1)\n",
      "Requirement already satisfied: mock>=2.0.0 in /home/xluo/.conda/envs/pyr/lib/python3.7/site-packages (from tensorflow-estimator<1.14.0rc0,>=1.13.0->tensorflow==1.13.1) (2.0.0)\n",
      "Requirement already satisfied: setuptools in /home/xluo/.conda/envs/pyr/lib/python3.7/site-packages (from protobuf>=3.6.1->tensorflow==1.13.1) (41.0.0)\n",
      "Requirement already satisfied: h5py in /home/xluo/.conda/envs/pyr/lib/python3.7/site-packages (from keras-applications>=1.0.6->tensorflow==1.13.1) (2.9.0)\n",
      "Requirement already satisfied: werkzeug>=0.11.15 in /home/xluo/.conda/envs/pyr/lib/python3.7/site-packages (from tensorboard<1.14.0,>=1.13.0->tensorflow==1.13.1) (0.15.2)\n",
      "Requirement already satisfied: markdown>=2.6.8 in /home/xluo/.conda/envs/pyr/lib/python3.7/site-packages (from tensorboard<1.14.0,>=1.13.0->tensorflow==1.13.1) (3.1)\n",
      "Requirement already satisfied: pbr>=0.11 in /home/xluo/.conda/envs/pyr/lib/python3.7/site-packages (from mock>=2.0.0->tensorflow-estimator<1.14.0rc0,>=1.13.0->tensorflow==1.13.1) (5.1.3)\n"
     ]
    }
   ],
   "source": [
    "!pip install tensorflow==1.13.1"
   ]
  },
  {
   "cell_type": "code",
   "execution_count": 8,
   "metadata": {
    "ExecuteTime": {
     "end_time": "2019-04-23T18:37:42.829467Z",
     "start_time": "2019-04-23T18:37:42.823764Z"
    }
   },
   "outputs": [
    {
     "ename": "ModuleNotFoundError",
     "evalue": "No module named 'ternsorflow'",
     "output_type": "error",
     "traceback": [
      "\u001b[0;31m---------------------------------------------------------------------------\u001b[0m",
      "\u001b[0;31mModuleNotFoundError\u001b[0m                       Traceback (most recent call last)",
      "\u001b[0;32m<ipython-input-8-ee74eb13a737>\u001b[0m in \u001b[0;36m<module>\u001b[0;34m\u001b[0m\n\u001b[0;32m----> 1\u001b[0;31m \u001b[0;32mimport\u001b[0m \u001b[0mternsorflow\u001b[0m\u001b[0;34m\u001b[0m\u001b[0;34m\u001b[0m\u001b[0m\n\u001b[0m",
      "\u001b[0;31mModuleNotFoundError\u001b[0m: No module named 'ternsorflow'"
     ]
    }
   ],
   "source": [
    "import ternsorflow"
   ]
  },
  {
   "cell_type": "code",
   "execution_count": null,
   "metadata": {},
   "outputs": [],
   "source": []
  }
 ],
 "metadata": {
  "kernelspec": {
   "display_name": "Python 3",
   "language": "python",
   "name": "python3"
  },
  "language_info": {
   "codemirror_mode": {
    "name": "ipython",
    "version": 3
   },
   "file_extension": ".py",
   "mimetype": "text/x-python",
   "name": "python",
   "nbconvert_exporter": "python",
   "pygments_lexer": "ipython3",
   "version": "3.7.3"
  },
  "varInspector": {
   "cols": {
    "lenName": 16,
    "lenType": 16,
    "lenVar": 40
   },
   "kernels_config": {
    "python": {
     "delete_cmd_postfix": "",
     "delete_cmd_prefix": "del ",
     "library": "var_list.py",
     "varRefreshCmd": "print(var_dic_list())"
    },
    "r": {
     "delete_cmd_postfix": ") ",
     "delete_cmd_prefix": "rm(",
     "library": "var_list.r",
     "varRefreshCmd": "cat(var_dic_list()) "
    }
   },
   "types_to_exclude": [
    "module",
    "function",
    "builtin_function_or_method",
    "instance",
    "_Feature"
   ],
   "window_display": false
  }
 },
 "nbformat": 4,
 "nbformat_minor": 2
}
