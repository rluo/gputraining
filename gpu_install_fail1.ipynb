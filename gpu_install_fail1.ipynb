{
 "cells": [
  {
   "cell_type": "markdown",
   "metadata": {},
   "source": [
    "# Overview\n",
    "\n",
    "GPUs are very efficient for *certain* numerial operations   but also with limitations.\n",
    "\n",
    "My personal opinion about GPU computing, based on my experience and observations. It had  never been popular and almost died until deep learning resurrected it a few years ago.  Deep Learning and Artificial Intelligence  are  the major driving forces for **NVIDIA** to further develop GPU computing libraries and hardware.\n",
    "\n",
    "Definitions:\n",
    "\n",
    "+ CUDA: a revolutionary parallel computing architecture from NVIDIA. It basically includes various libraries for matrix calculation and more on GPUs.\n",
    "\n",
    "\n",
    "Pros:\n",
    "\n",
    "+ Many more cores (thousands) than CPUs (a few dozen)\n",
    "+ Faster for simple, parallelable tasks\n",
    "\n",
    "Cons:\n",
    "\n",
    "+ Simpler calculations (CS: instruction sets) than CPU. For example, CUDA does not support SIMD\n",
    "+ Much harder to set-up.  It took a team effort of users and system administrators several days of iterations to set it up right, in order to show today's example.\n",
    "+ Many users with little experience of unix/linux probably do not know where the problems are for setting up GPUs.\n",
    "+ Even the most advanced software companies, such as Google, found it challenging to make their GPU software easy to install. So they say \"we recommend using a TensorFlow Docker image with GPU support (Linux only).\" \n",
    "+ Some algorithms  benefit from GPU computing but not all algorithms, see https://medium.com/datathings/benchmarking-blas-libraries-b57fb1c6dc7\n",
    "+ Most machine learning libraries don't and has no plans to support GPUs. I totally agree with their position.  scikit-learn says for GPU support: \"No, or at least not in the near future.\", see https://scikit-learn.org/stable/faq.html\n",
    "\n"
   ]
  },
  {
   "cell_type": "markdown",
   "metadata": {},
   "source": [
    "# Install packages"
   ]
  },
  {
   "cell_type": "code",
   "execution_count": null,
   "metadata": {
    "ExecuteTime": {
     "start_time": "2019-04-23T22:24:01.932Z"
    }
   },
   "outputs": [],
   "source": [
    "%%bash\n",
    "conda install -c conda-forge jupyter_contrib_nbextensions\n",
    "jupyter contrib nbextension install --user\n",
    "conda install -c conda-forge jupyter_nbextensions_configurator\n",
    "jupyter nbextensions_configurator enable --user\n",
    "pip install yapf"
   ]
  },
  {
   "cell_type": "code",
   "execution_count": null,
   "metadata": {
    "ExecuteTime": {
     "start_time": "2019-04-23T22:24:01.934Z"
    }
   },
   "outputs": [],
   "source": [
    "%%bash\n",
    "pip install numpy scipy pandas"
   ]
  },
  {
   "cell_type": "code",
   "execution_count": null,
   "metadata": {
    "ExecuteTime": {
     "start_time": "2019-04-23T22:24:01.936Z"
    }
   },
   "outputs": [],
   "source": [
    "%%bash\n",
    "pip install seaborn ipywidgets pivottablejs"
   ]
  },
  {
   "cell_type": "markdown",
   "metadata": {},
   "source": [
    "# Install Tensor Flow"
   ]
  },
  {
   "cell_type": "code",
   "execution_count": null,
   "metadata": {
    "ExecuteTime": {
     "start_time": "2019-04-23T22:24:01.938Z"
    }
   },
   "outputs": [],
   "source": [
    "!pip install --upgrade pip"
   ]
  },
  {
   "cell_type": "code",
   "execution_count": null,
   "metadata": {
    "ExecuteTime": {
     "start_time": "2019-04-23T22:24:01.940Z"
    }
   },
   "outputs": [],
   "source": [
    "!pip install tensorflow==1.13.1"
   ]
  },
  {
   "cell_type": "code",
   "execution_count": null,
   "metadata": {
    "ExecuteTime": {
     "start_time": "2019-04-23T22:24:01.942Z"
    }
   },
   "outputs": [],
   "source": [
    "import ternsorflow"
   ]
  },
  {
   "cell_type": "code",
   "execution_count": null,
   "metadata": {},
   "outputs": [],
   "source": []
  }
 ],
 "metadata": {
  "kernelspec": {
   "display_name": "Python 3",
   "language": "python",
   "name": "python3"
  },
  "language_info": {
   "codemirror_mode": {
    "name": "ipython",
    "version": 3
   },
   "file_extension": ".py",
   "mimetype": "text/x-python",
   "name": "python",
   "nbconvert_exporter": "python",
   "pygments_lexer": "ipython3",
   "version": "3.7.3"
  },
  "toc": {
   "base_numbering": 1,
   "nav_menu": {},
   "number_sections": true,
   "sideBar": true,
   "skip_h1_title": false,
   "title_cell": "Table of Contents",
   "title_sidebar": "Contents",
   "toc_cell": false,
   "toc_position": {},
   "toc_section_display": true,
   "toc_window_display": false
  },
  "varInspector": {
   "cols": {
    "lenName": 16,
    "lenType": 16,
    "lenVar": 40
   },
   "kernels_config": {
    "python": {
     "delete_cmd_postfix": "",
     "delete_cmd_prefix": "del ",
     "library": "var_list.py",
     "varRefreshCmd": "print(var_dic_list())"
    },
    "r": {
     "delete_cmd_postfix": ") ",
     "delete_cmd_prefix": "rm(",
     "library": "var_list.r",
     "varRefreshCmd": "cat(var_dic_list()) "
    }
   },
   "types_to_exclude": [
    "module",
    "function",
    "builtin_function_or_method",
    "instance",
    "_Feature"
   ],
   "window_display": false
  }
 },
 "nbformat": 4,
 "nbformat_minor": 2
}
